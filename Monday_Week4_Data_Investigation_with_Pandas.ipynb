{
  "nbformat": 4,
  "nbformat_minor": 0,
  "metadata": {
    "colab": {
      "name": "Monday Week4 Data Investigation with Pandas",
      "provenance": [],
      "collapsed_sections": [
        "VSnOCZ5-IPCi",
        "HToJZ2gBPawZ",
        "IICLGbvBRYHq",
        "RAVzK5O6IR8v",
        "NicC8P9LMjvO"
      ],
      "include_colab_link": true
    },
    "kernelspec": {
      "name": "python3",
      "display_name": "Python 3"
    }
  },
  "cells": [
    {
      "cell_type": "markdown",
      "metadata": {
        "id": "view-in-github",
        "colab_type": "text"
      },
      "source": [
        "<a href=\"https://colab.research.google.com/github/Glendah-Nyabuto/week4/blob/main/Monday_Week4_Data_Investigation_with_Pandas.ipynb\" target=\"_parent\"><img src=\"https://colab.research.google.com/assets/colab-badge.svg\" alt=\"Open In Colab\"/></a>"
      ]
    },
    {
      "cell_type": "markdown",
      "metadata": {
        "id": "B-ZF3yPCWGPf"
      },
      "source": [
        "<font color=\"green\">*To start working on this notebook, or any other notebook that we will use in the Moringa Data Science Course, we will need to save our own copy of it. We can do this by clicking File > Save a Copy in Drive. We will then be able to make edits to our own copy of this notebook.*</font>"
      ]
    },
    {
      "cell_type": "markdown",
      "metadata": {
        "id": "m0tgCkvzPLEa"
      },
      "source": [
        "# Data Investigation with Pandas"
      ]
    },
    {
      "cell_type": "markdown",
      "metadata": {
        "id": "VSnOCZ5-IPCi"
      },
      "source": [
        "## 1.0 Importing our Libraries"
      ]
    },
    {
      "cell_type": "code",
      "metadata": {
        "id": "3r-KDLvrO44a"
      },
      "source": [
        "# Importing the libraries we will need \n",
        "\n",
        "# Importing the pandas library\n",
        "# \n",
        "\n",
        "import pandas as pd\n",
        "# Importing the numpy library\n",
        "#\n",
        "import numpy as np"
      ],
      "execution_count": null,
      "outputs": []
    },
    {
      "cell_type": "markdown",
      "metadata": {
        "id": "HToJZ2gBPawZ"
      },
      "source": [
        "## 1.1 Reading the Dataset from our CSV file\n",
        "\n"
      ]
    },
    {
      "cell_type": "markdown",
      "metadata": {
        "id": "LBUr8VUXQX-K"
      },
      "source": [
        "\n",
        "\n",
        "The dataset we will use contains information about the 2009 Census - The Rural Urban Population by Age, Sex and District.\n",
        "\n",
        "\n",
        "*   Dataset link for download or access: [Link](https://drive.google.com/open?id=1pc9ZLFGsosdWBk1lI29ADIqRtCvD_FBe)\n",
        "\n",
        "\n",
        "\n"
      ]
    },
    {
      "cell_type": "code",
      "metadata": {
        "id": "1acwmZanRNHs",
        "colab": {
          "base_uri": "https://localhost:8080/",
          "height": 419
        },
        "outputId": "fc06ac53-d898-4fcc-97c4-3c5b5d9f80c0"
      },
      "source": [
        "# Let's read the data from the CSV file and create the dataframe to be used\n",
        "# \n",
        "df = pd.read_csv('/content/Rural_Urban_Population_By_Age_Sex_and_by_District__2009.csv')\n",
        "df"
      ],
      "execution_count": null,
      "outputs": [
        {
          "output_type": "execute_result",
          "data": {
            "text/html": [
              "<div>\n",
              "<style scoped>\n",
              "    .dataframe tbody tr th:only-of-type {\n",
              "        vertical-align: middle;\n",
              "    }\n",
              "\n",
              "    .dataframe tbody tr th {\n",
              "        vertical-align: top;\n",
              "    }\n",
              "\n",
              "    .dataframe thead th {\n",
              "        text-align: right;\n",
              "    }\n",
              "</style>\n",
              "<table border=\"1\" class=\"dataframe\">\n",
              "  <thead>\n",
              "    <tr style=\"text-align: right;\">\n",
              "      <th></th>\n",
              "      <th>District</th>\n",
              "      <th>Urban/Rural</th>\n",
              "      <th>Age_years</th>\n",
              "      <th>Male</th>\n",
              "      <th>Female</th>\n",
              "      <th>Total</th>\n",
              "      <th>County</th>\n",
              "      <th>Province</th>\n",
              "      <th>OBJECTID</th>\n",
              "    </tr>\n",
              "  </thead>\n",
              "  <tbody>\n",
              "    <tr>\n",
              "      <th>0</th>\n",
              "      <td>NAIROBI WEST</td>\n",
              "      <td>Urban</td>\n",
              "      <td>0</td>\n",
              "      <td>10126</td>\n",
              "      <td>10116</td>\n",
              "      <td>20242</td>\n",
              "      <td>Nairobi</td>\n",
              "      <td>NAIROBI</td>\n",
              "      <td>0</td>\n",
              "    </tr>\n",
              "    <tr>\n",
              "      <th>1</th>\n",
              "      <td>NAIROBI WEST</td>\n",
              "      <td>Urban</td>\n",
              "      <td>1</td>\n",
              "      <td>8124</td>\n",
              "      <td>7989</td>\n",
              "      <td>16113</td>\n",
              "      <td>Nairobi</td>\n",
              "      <td>NAIROBI</td>\n",
              "      <td>1</td>\n",
              "    </tr>\n",
              "    <tr>\n",
              "      <th>2</th>\n",
              "      <td>NAIROBI WEST</td>\n",
              "      <td>Urban</td>\n",
              "      <td>2</td>\n",
              "      <td>8462</td>\n",
              "      <td>8627</td>\n",
              "      <td>17089</td>\n",
              "      <td>Nairobi</td>\n",
              "      <td>NAIROBI</td>\n",
              "      <td>2</td>\n",
              "    </tr>\n",
              "    <tr>\n",
              "      <th>3</th>\n",
              "      <td>NAIROBI WEST</td>\n",
              "      <td>Urban</td>\n",
              "      <td>3</td>\n",
              "      <td>8334</td>\n",
              "      <td>8420</td>\n",
              "      <td>16754</td>\n",
              "      <td>Nairobi</td>\n",
              "      <td>NAIROBI</td>\n",
              "      <td>3</td>\n",
              "    </tr>\n",
              "    <tr>\n",
              "      <th>4</th>\n",
              "      <td>NAIROBI WEST</td>\n",
              "      <td>Urban</td>\n",
              "      <td>4</td>\n",
              "      <td>7948</td>\n",
              "      <td>7820</td>\n",
              "      <td>15768</td>\n",
              "      <td>Nairobi</td>\n",
              "      <td>NAIROBI</td>\n",
              "      <td>4</td>\n",
              "    </tr>\n",
              "    <tr>\n",
              "      <th>...</th>\n",
              "      <td>...</td>\n",
              "      <td>...</td>\n",
              "      <td>...</td>\n",
              "      <td>...</td>\n",
              "      <td>...</td>\n",
              "      <td>...</td>\n",
              "      <td>...</td>\n",
              "      <td>...</td>\n",
              "      <td>...</td>\n",
              "    </tr>\n",
              "    <tr>\n",
              "      <th>25415</th>\n",
              "      <td>TESO SOUTH</td>\n",
              "      <td>Rural</td>\n",
              "      <td>77</td>\n",
              "      <td>99</td>\n",
              "      <td>86</td>\n",
              "      <td>185</td>\n",
              "      <td>Busia</td>\n",
              "      <td>WESTERN</td>\n",
              "      <td>25415</td>\n",
              "    </tr>\n",
              "    <tr>\n",
              "      <th>25416</th>\n",
              "      <td>TESO SOUTH</td>\n",
              "      <td>Rural</td>\n",
              "      <td>78</td>\n",
              "      <td>63</td>\n",
              "      <td>47</td>\n",
              "      <td>110</td>\n",
              "      <td>Busia</td>\n",
              "      <td>WESTERN</td>\n",
              "      <td>25416</td>\n",
              "    </tr>\n",
              "    <tr>\n",
              "      <th>25417</th>\n",
              "      <td>TESO SOUTH</td>\n",
              "      <td>Rural</td>\n",
              "      <td>79</td>\n",
              "      <td>90</td>\n",
              "      <td>121</td>\n",
              "      <td>211</td>\n",
              "      <td>Busia</td>\n",
              "      <td>WESTERN</td>\n",
              "      <td>25417</td>\n",
              "    </tr>\n",
              "    <tr>\n",
              "      <th>25418</th>\n",
              "      <td>TESO SOUTH</td>\n",
              "      <td>Rural</td>\n",
              "      <td>80+</td>\n",
              "      <td>384</td>\n",
              "      <td>391</td>\n",
              "      <td>775</td>\n",
              "      <td>Busia</td>\n",
              "      <td>WESTERN</td>\n",
              "      <td>25418</td>\n",
              "    </tr>\n",
              "    <tr>\n",
              "      <th>25419</th>\n",
              "      <td>TESO SOUTH</td>\n",
              "      <td>Rural</td>\n",
              "      <td>Age NS</td>\n",
              "      <td>25</td>\n",
              "      <td>23</td>\n",
              "      <td>48</td>\n",
              "      <td>Busia</td>\n",
              "      <td>WESTERN</td>\n",
              "      <td>25419</td>\n",
              "    </tr>\n",
              "  </tbody>\n",
              "</table>\n",
              "<p>25420 rows × 9 columns</p>\n",
              "</div>"
            ],
            "text/plain": [
              "           District Urban/Rural Age_years  ...   County  Province  OBJECTID\n",
              "0      NAIROBI WEST       Urban         0  ...  Nairobi   NAIROBI         0\n",
              "1      NAIROBI WEST       Urban         1  ...  Nairobi   NAIROBI         1\n",
              "2      NAIROBI WEST       Urban         2  ...  Nairobi   NAIROBI         2\n",
              "3      NAIROBI WEST       Urban         3  ...  Nairobi   NAIROBI         3\n",
              "4      NAIROBI WEST       Urban         4  ...  Nairobi   NAIROBI         4\n",
              "...             ...         ...       ...  ...      ...       ...       ...\n",
              "25415    TESO SOUTH       Rural        77  ...    Busia   WESTERN     25415\n",
              "25416    TESO SOUTH       Rural        78  ...    Busia   WESTERN     25416\n",
              "25417    TESO SOUTH       Rural        79  ...    Busia   WESTERN     25417\n",
              "25418    TESO SOUTH       Rural       80+  ...    Busia   WESTERN     25418\n",
              "25419    TESO SOUTH       Rural    Age NS  ...    Busia   WESTERN     25419\n",
              "\n",
              "[25420 rows x 9 columns]"
            ]
          },
          "metadata": {
            "tags": []
          },
          "execution_count": 6
        }
      ]
    },
    {
      "cell_type": "markdown",
      "metadata": {
        "id": "IICLGbvBRYHq"
      },
      "source": [
        "## 1.2 Previewing our Dataset\n"
      ]
    },
    {
      "cell_type": "code",
      "metadata": {
        "id": "WrwHg-hzR5BY",
        "colab": {
          "base_uri": "https://localhost:8080/",
          "height": 359
        },
        "outputId": "856dd4d7-9b24-40b3-db2b-8cc5bbf46637"
      },
      "source": [
        "# Let's preview the first 10 rows of our data\n",
        "# \n",
        "df.head(10)"
      ],
      "execution_count": null,
      "outputs": [
        {
          "output_type": "execute_result",
          "data": {
            "text/html": [
              "<div>\n",
              "<style scoped>\n",
              "    .dataframe tbody tr th:only-of-type {\n",
              "        vertical-align: middle;\n",
              "    }\n",
              "\n",
              "    .dataframe tbody tr th {\n",
              "        vertical-align: top;\n",
              "    }\n",
              "\n",
              "    .dataframe thead th {\n",
              "        text-align: right;\n",
              "    }\n",
              "</style>\n",
              "<table border=\"1\" class=\"dataframe\">\n",
              "  <thead>\n",
              "    <tr style=\"text-align: right;\">\n",
              "      <th></th>\n",
              "      <th>District</th>\n",
              "      <th>Urban/Rural</th>\n",
              "      <th>Age_years</th>\n",
              "      <th>Male</th>\n",
              "      <th>Female</th>\n",
              "      <th>Total</th>\n",
              "      <th>County</th>\n",
              "      <th>Province</th>\n",
              "      <th>OBJECTID</th>\n",
              "    </tr>\n",
              "  </thead>\n",
              "  <tbody>\n",
              "    <tr>\n",
              "      <th>0</th>\n",
              "      <td>NAIROBI WEST</td>\n",
              "      <td>Urban</td>\n",
              "      <td>0</td>\n",
              "      <td>10126</td>\n",
              "      <td>10116</td>\n",
              "      <td>20242</td>\n",
              "      <td>Nairobi</td>\n",
              "      <td>NAIROBI</td>\n",
              "      <td>0</td>\n",
              "    </tr>\n",
              "    <tr>\n",
              "      <th>1</th>\n",
              "      <td>NAIROBI WEST</td>\n",
              "      <td>Urban</td>\n",
              "      <td>1</td>\n",
              "      <td>8124</td>\n",
              "      <td>7989</td>\n",
              "      <td>16113</td>\n",
              "      <td>Nairobi</td>\n",
              "      <td>NAIROBI</td>\n",
              "      <td>1</td>\n",
              "    </tr>\n",
              "    <tr>\n",
              "      <th>2</th>\n",
              "      <td>NAIROBI WEST</td>\n",
              "      <td>Urban</td>\n",
              "      <td>2</td>\n",
              "      <td>8462</td>\n",
              "      <td>8627</td>\n",
              "      <td>17089</td>\n",
              "      <td>Nairobi</td>\n",
              "      <td>NAIROBI</td>\n",
              "      <td>2</td>\n",
              "    </tr>\n",
              "    <tr>\n",
              "      <th>3</th>\n",
              "      <td>NAIROBI WEST</td>\n",
              "      <td>Urban</td>\n",
              "      <td>3</td>\n",
              "      <td>8334</td>\n",
              "      <td>8420</td>\n",
              "      <td>16754</td>\n",
              "      <td>Nairobi</td>\n",
              "      <td>NAIROBI</td>\n",
              "      <td>3</td>\n",
              "    </tr>\n",
              "    <tr>\n",
              "      <th>4</th>\n",
              "      <td>NAIROBI WEST</td>\n",
              "      <td>Urban</td>\n",
              "      <td>4</td>\n",
              "      <td>7948</td>\n",
              "      <td>7820</td>\n",
              "      <td>15768</td>\n",
              "      <td>Nairobi</td>\n",
              "      <td>NAIROBI</td>\n",
              "      <td>4</td>\n",
              "    </tr>\n",
              "    <tr>\n",
              "      <th>5</th>\n",
              "      <td>NAIROBI WEST</td>\n",
              "      <td>Urban</td>\n",
              "      <td>5</td>\n",
              "      <td>7547</td>\n",
              "      <td>7660</td>\n",
              "      <td>15207</td>\n",
              "      <td>Nairobi</td>\n",
              "      <td>NAIROBI</td>\n",
              "      <td>5</td>\n",
              "    </tr>\n",
              "    <tr>\n",
              "      <th>6</th>\n",
              "      <td>NAIROBI WEST</td>\n",
              "      <td>Urban</td>\n",
              "      <td>6</td>\n",
              "      <td>6966</td>\n",
              "      <td>7082</td>\n",
              "      <td>14048</td>\n",
              "      <td>Nairobi</td>\n",
              "      <td>NAIROBI</td>\n",
              "      <td>6</td>\n",
              "    </tr>\n",
              "    <tr>\n",
              "      <th>7</th>\n",
              "      <td>NAIROBI WEST</td>\n",
              "      <td>Urban</td>\n",
              "      <td>7</td>\n",
              "      <td>6511</td>\n",
              "      <td>6674</td>\n",
              "      <td>13185</td>\n",
              "      <td>Nairobi</td>\n",
              "      <td>NAIROBI</td>\n",
              "      <td>7</td>\n",
              "    </tr>\n",
              "    <tr>\n",
              "      <th>8</th>\n",
              "      <td>NAIROBI WEST</td>\n",
              "      <td>Urban</td>\n",
              "      <td>8</td>\n",
              "      <td>6171</td>\n",
              "      <td>6489</td>\n",
              "      <td>12660</td>\n",
              "      <td>Nairobi</td>\n",
              "      <td>NAIROBI</td>\n",
              "      <td>8</td>\n",
              "    </tr>\n",
              "    <tr>\n",
              "      <th>9</th>\n",
              "      <td>NAIROBI WEST</td>\n",
              "      <td>Urban</td>\n",
              "      <td>9</td>\n",
              "      <td>6361</td>\n",
              "      <td>6662</td>\n",
              "      <td>13023</td>\n",
              "      <td>Nairobi</td>\n",
              "      <td>NAIROBI</td>\n",
              "      <td>9</td>\n",
              "    </tr>\n",
              "  </tbody>\n",
              "</table>\n",
              "</div>"
            ],
            "text/plain": [
              "       District Urban/Rural Age_years   Male  ...  Total   County Province OBJECTID\n",
              "0  NAIROBI WEST       Urban         0  10126  ...  20242  Nairobi  NAIROBI        0\n",
              "1  NAIROBI WEST       Urban         1   8124  ...  16113  Nairobi  NAIROBI        1\n",
              "2  NAIROBI WEST       Urban         2   8462  ...  17089  Nairobi  NAIROBI        2\n",
              "3  NAIROBI WEST       Urban         3   8334  ...  16754  Nairobi  NAIROBI        3\n",
              "4  NAIROBI WEST       Urban         4   7948  ...  15768  Nairobi  NAIROBI        4\n",
              "5  NAIROBI WEST       Urban         5   7547  ...  15207  Nairobi  NAIROBI        5\n",
              "6  NAIROBI WEST       Urban         6   6966  ...  14048  Nairobi  NAIROBI        6\n",
              "7  NAIROBI WEST       Urban         7   6511  ...  13185  Nairobi  NAIROBI        7\n",
              "8  NAIROBI WEST       Urban         8   6171  ...  12660  Nairobi  NAIROBI        8\n",
              "9  NAIROBI WEST       Urban         9   6361  ...  13023  Nairobi  NAIROBI        9\n",
              "\n",
              "[10 rows x 9 columns]"
            ]
          },
          "metadata": {
            "tags": []
          },
          "execution_count": 7
        }
      ]
    },
    {
      "cell_type": "markdown",
      "metadata": {
        "id": "RAVzK5O6IR8v"
      },
      "source": [
        "## 1.3 Accessing Information about our Dataset"
      ]
    },
    {
      "cell_type": "code",
      "metadata": {
        "id": "0d2kfemDIYWI",
        "colab": {
          "base_uri": "https://localhost:8080/"
        },
        "outputId": "b0e6a7cb-401c-4feb-cbcd-25818e3d3685"
      },
      "source": [
        "# We can getting to know more about the dataset by accessing its information \n",
        "#\n",
        "df.info()\n",
        "df.loc[df['Age_years'] == '80+', 'Age_years'] = '80'\n",
        "df.loc[df['Age_years'] == 'Age NS', 'Age_years'] = '0'\n",
        "df['Age_years'] = pd.to_numeric(df['Age_years'])\n",
        "df.info()"
      ],
      "execution_count": null,
      "outputs": [
        {
          "output_type": "stream",
          "text": [
            "<class 'pandas.core.frame.DataFrame'>\n",
            "RangeIndex: 25420 entries, 0 to 25419\n",
            "Data columns (total 9 columns):\n",
            " #   Column       Non-Null Count  Dtype \n",
            "---  ------       --------------  ----- \n",
            " 0   District     25420 non-null  object\n",
            " 1   Urban/Rural  25420 non-null  object\n",
            " 2   Age_years    25420 non-null  int64 \n",
            " 3   Male         25420 non-null  int64 \n",
            " 4   Female       25420 non-null  int64 \n",
            " 5   Total        25420 non-null  int64 \n",
            " 6   County       25420 non-null  object\n",
            " 7   Province     25420 non-null  object\n",
            " 8   OBJECTID     25420 non-null  int64 \n",
            "dtypes: int64(5), object(4)\n",
            "memory usage: 1.7+ MB\n"
          ],
          "name": "stdout"
        }
      ]
    },
    {
      "cell_type": "markdown",
      "metadata": {
        "id": "NicC8P9LMjvO"
      },
      "source": [
        "## 1.4 Answering Questions"
      ]
    },
    {
      "cell_type": "markdown",
      "metadata": {
        "id": "8izhaW7UNYGJ"
      },
      "source": [
        "Let's answer the following questions with our dataset"
      ]
    },
    {
      "cell_type": "code",
      "metadata": {
        "id": "tTOgnXvuMxcn",
        "colab": {
          "base_uri": "https://localhost:8080/"
        },
        "outputId": "943671e6-1f77-4bc1-fc91-b7446ded8aeb"
      },
      "source": [
        "# Challenge 1\n",
        "# What was the average age of a person of Kenya?\n",
        "#\n",
        "df['Age_years'].mean()"
      ],
      "execution_count": null,
      "outputs": [
        {
          "output_type": "execute_result",
          "data": {
            "text/plain": [
              "39.51219512195122"
            ]
          },
          "metadata": {
            "tags": []
          },
          "execution_count": 35
        }
      ]
    },
    {
      "cell_type": "code",
      "metadata": {
        "id": "BNegesaWNvQs",
        "colab": {
          "base_uri": "https://localhost:8080/"
        },
        "outputId": "9f2f3dda-43ba-474e-de3a-c032f311b449"
      },
      "source": [
        "# Challenge 2\n",
        "# What was the average female population in Kenya?\n",
        "#\n",
        "df['Female'].mean()"
      ],
      "execution_count": null,
      "outputs": [
        {
          "output_type": "execute_result",
          "data": {
            "text/plain": [
              "763.8725019669552"
            ]
          },
          "metadata": {
            "tags": []
          },
          "execution_count": 36
        }
      ]
    },
    {
      "cell_type": "code",
      "metadata": {
        "id": "7tilTerhNyiP",
        "colab": {
          "base_uri": "https://localhost:8080/"
        },
        "outputId": "85964c3b-236e-48b7-bbe9-326072c7221f"
      },
      "source": [
        "# Challenge 3\n",
        "# What was the average male population in Kenya?\n",
        "#\n",
        "df['Male'].mean()"
      ],
      "execution_count": null,
      "outputs": [
        {
          "output_type": "execute_result",
          "data": {
            "text/plain": [
              "755.0140833988985"
            ]
          },
          "metadata": {
            "tags": []
          },
          "execution_count": 37
        }
      ]
    },
    {
      "cell_type": "code",
      "metadata": {
        "id": "OemJ0HDYOHCq",
        "colab": {
          "base_uri": "https://localhost:8080/",
          "height": 450
        },
        "outputId": "fb82ea92-0c66-4f7c-e22c-2006d004cf23"
      },
      "source": [
        "# Challenge 4\n",
        "# Which 5 districts were the most densely populated Kenya in descending order?\n",
        "#\n",
        "df.groupby('District').sum()['Total'].sort_values(ascending=False).head(5)\n"
      ],
      "execution_count": null,
      "outputs": [
        {
          "output_type": "execute_result",
          "data": {
            "text/html": [
              "<div>\n",
              "<style scoped>\n",
              "    .dataframe tbody tr th:only-of-type {\n",
              "        vertical-align: middle;\n",
              "    }\n",
              "\n",
              "    .dataframe tbody tr th {\n",
              "        vertical-align: top;\n",
              "    }\n",
              "\n",
              "    .dataframe thead th {\n",
              "        text-align: right;\n",
              "    }\n",
              "</style>\n",
              "<table border=\"1\" class=\"dataframe\">\n",
              "  <thead>\n",
              "    <tr style=\"text-align: right;\">\n",
              "      <th></th>\n",
              "      <th>Age_years</th>\n",
              "      <th>Male</th>\n",
              "      <th>Female</th>\n",
              "      <th>Total</th>\n",
              "      <th>OBJECTID</th>\n",
              "    </tr>\n",
              "    <tr>\n",
              "      <th>District</th>\n",
              "      <th></th>\n",
              "      <th></th>\n",
              "      <th></th>\n",
              "      <th></th>\n",
              "      <th></th>\n",
              "    </tr>\n",
              "  </thead>\n",
              "  <tbody>\n",
              "    <tr>\n",
              "      <th>BARINGO</th>\n",
              "      <td>6480</td>\n",
              "      <td>79912</td>\n",
              "      <td>82439</td>\n",
              "      <td>162351</td>\n",
              "      <td>2454026</td>\n",
              "    </tr>\n",
              "    <tr>\n",
              "      <th>BARINGO NORTH</th>\n",
              "      <td>6480</td>\n",
              "      <td>46228</td>\n",
              "      <td>47561</td>\n",
              "      <td>93789</td>\n",
              "      <td>2467626</td>\n",
              "    </tr>\n",
              "    <tr>\n",
              "      <th>BOMET</th>\n",
              "      <td>6480</td>\n",
              "      <td>194862</td>\n",
              "      <td>202242</td>\n",
              "      <td>397104</td>\n",
              "      <td>2857618</td>\n",
              "    </tr>\n",
              "    <tr>\n",
              "      <th>BONDO</th>\n",
              "      <td>6480</td>\n",
              "      <td>76468</td>\n",
              "      <td>81054</td>\n",
              "      <td>157522</td>\n",
              "      <td>2023842</td>\n",
              "    </tr>\n",
              "    <tr>\n",
              "      <th>BORABU</th>\n",
              "      <td>6480</td>\n",
              "      <td>37079</td>\n",
              "      <td>36347</td>\n",
              "      <td>73426</td>\n",
              "      <td>2279354</td>\n",
              "    </tr>\n",
              "    <tr>\n",
              "      <th>...</th>\n",
              "      <td>...</td>\n",
              "      <td>...</td>\n",
              "      <td>...</td>\n",
              "      <td>...</td>\n",
              "      <td>...</td>\n",
              "    </tr>\n",
              "    <tr>\n",
              "      <th>WAJIR WEST</th>\n",
              "      <td>6480</td>\n",
              "      <td>96619</td>\n",
              "      <td>75329</td>\n",
              "      <td>171948</td>\n",
              "      <td>1956604</td>\n",
              "    </tr>\n",
              "    <tr>\n",
              "      <th>WARENG</th>\n",
              "      <td>6480</td>\n",
              "      <td>131910</td>\n",
              "      <td>129163</td>\n",
              "      <td>261073</td>\n",
              "      <td>2534866</td>\n",
              "    </tr>\n",
              "    <tr>\n",
              "      <th>WEST POKOT</th>\n",
              "      <td>6480</td>\n",
              "      <td>89669</td>\n",
              "      <td>91394</td>\n",
              "      <td>181063</td>\n",
              "      <td>2333146</td>\n",
              "    </tr>\n",
              "    <tr>\n",
              "      <th>WESTLANDS</th>\n",
              "      <td>3240</td>\n",
              "      <td>124748</td>\n",
              "      <td>122354</td>\n",
              "      <td>247102</td>\n",
              "      <td>23493</td>\n",
              "    </tr>\n",
              "    <tr>\n",
              "      <th>YATTA</th>\n",
              "      <td>6480</td>\n",
              "      <td>132444</td>\n",
              "      <td>141075</td>\n",
              "      <td>273519</td>\n",
              "      <td>1781778</td>\n",
              "    </tr>\n",
              "  </tbody>\n",
              "</table>\n",
              "<p>158 rows × 5 columns</p>\n",
              "</div>"
            ],
            "text/plain": [
              "               Age_years    Male  Female   Total  OBJECTID\n",
              "District                                                  \n",
              "BARINGO             6480   79912   82439  162351   2454026\n",
              "BARINGO NORTH       6480   46228   47561   93789   2467626\n",
              "BOMET               6480  194862  202242  397104   2857618\n",
              "BONDO               6480   76468   81054  157522   2023842\n",
              "BORABU              6480   37079   36347   73426   2279354\n",
              "...                  ...     ...     ...     ...       ...\n",
              "WAJIR WEST          6480   96619   75329  171948   1956604\n",
              "WARENG              6480  131910  129163  261073   2534866\n",
              "WEST POKOT          6480   89669   91394  181063   2333146\n",
              "WESTLANDS           3240  124748  122354  247102     23493\n",
              "YATTA               6480  132444  141075  273519   1781778\n",
              "\n",
              "[158 rows x 5 columns]"
            ]
          },
          "metadata": {
            "tags": []
          },
          "execution_count": 45
        }
      ]
    },
    {
      "cell_type": "code",
      "metadata": {
        "id": "CIxC5arSOLak",
        "colab": {
          "base_uri": "https://localhost:8080/"
        },
        "outputId": "20bb1534-3568-4aca-e375-c6b4fd010334"
      },
      "source": [
        "# Challenge 5\n",
        "# Which 5 counties were the most densely populated Counties in descending order?\n",
        "# \n",
        "densely = df.groupby('County').sum()['Total'].sort_values(ascending=False).head(5)\n",
        "densely"
      ],
      "execution_count": null,
      "outputs": [
        {
          "output_type": "execute_result",
          "data": {
            "text/plain": [
              "County\n",
              "Nairobi     3138369\n",
              "Kiambu      1673785\n",
              "Kakamega    1660651\n",
              "Nakuru      1603325\n",
              "Meru        1591533\n",
              "Name: Total, dtype: int64"
            ]
          },
          "metadata": {
            "tags": []
          },
          "execution_count": 50
        }
      ]
    },
    {
      "cell_type": "code",
      "metadata": {
        "id": "gSjjnw56OP8O",
        "colab": {
          "base_uri": "https://localhost:8080/"
        },
        "outputId": "932f61da-fddc-4469-be57-c417697da0fd"
      },
      "source": [
        "# Challenge 6\n",
        "# Which 5 districts were the most sparsely populated in descending order?\n",
        "# \n",
        "sparsely = df.groupby('District').sum()['Total'].sort_values(ascending=True).head(5)\n",
        "sparsely.sort_values(ascending=False)"
      ],
      "execution_count": null,
      "outputs": [
        {
          "output_type": "execute_result",
          "data": {
            "text/plain": [
              "District\n",
              "SAMBURU NORTH     59801\n",
              "SAMBURU EAST      59094\n",
              "MARSABIT          46502\n",
              "GARBATULLA        43118\n",
              "LAIKIPIA NORTH    32762\n",
              "Name: Total, dtype: int64"
            ]
          },
          "metadata": {
            "tags": []
          },
          "execution_count": 52
        }
      ]
    },
    {
      "cell_type": "code",
      "metadata": {
        "id": "UZLYqF7UOTtu",
        "colab": {
          "base_uri": "https://localhost:8080/"
        },
        "outputId": "2a6d96de-9ca8-448b-af5a-6a2620a176c6"
      },
      "source": [
        "# Challenge 7\n",
        "# What was the average population of the the most densely populated county in Kenya?\n",
        "# \n",
        "avarage_of_the_most_populated_county = df.groupby('County').mean()['Total'].sort_values(ascending=False).head(1)\n",
        "avarage_of_the_most_populated_county"
      ],
      "execution_count": null,
      "outputs": [
        {
          "output_type": "execute_result",
          "data": {
            "text/plain": [
              "County\n",
              "Nairobi    9568.198171\n",
              "Name: Total, dtype: float64"
            ]
          },
          "metadata": {
            "tags": []
          },
          "execution_count": 57
        }
      ]
    },
    {
      "cell_type": "code",
      "metadata": {
        "id": "1qk8wF3MOXDu",
        "colab": {
          "base_uri": "https://localhost:8080/"
        },
        "outputId": "e1851c70-2543-4b63-c76a-94dab58b78da"
      },
      "source": [
        "# Challenge 8\n",
        "# What was the average population of the the most sparsely populated county in Kenya?\n",
        "# \n",
        "avarage_of_the_sparsely_populated_county = df.groupby('County').mean()['Total'].sort_values(ascending=True).head(1)\n",
        "avarage_of_the_sparsely_populated_county\n"
      ],
      "execution_count": null,
      "outputs": [
        {
          "output_type": "execute_result",
          "data": {
            "text/plain": [
              "County\n",
              "Isiolo    436.871951\n",
              "Name: Total, dtype: float64"
            ]
          },
          "metadata": {
            "tags": []
          },
          "execution_count": 60
        }
      ]
    },
    {
      "cell_type": "code",
      "metadata": {
        "id": "1V21Beok3Rdc",
        "colab": {
          "base_uri": "https://localhost:8080/"
        },
        "outputId": "726a1f19-c902-4aed-87b2-b702b7b95ea7"
      },
      "source": [
        "# Challenge 9\n",
        "# What was the total population of Busia County? \n",
        "# \n",
        "\n",
        "df.loc[df['County'] == 'Busia']['Total'].sum()"
      ],
      "execution_count": null,
      "outputs": [
        {
          "output_type": "execute_result",
          "data": {
            "text/plain": [
              "743946"
            ]
          },
          "metadata": {
            "tags": []
          },
          "execution_count": 67
        }
      ]
    },
    {
      "cell_type": "code",
      "metadata": {
        "id": "Vtq7pAI73RTZ",
        "colab": {
          "base_uri": "https://localhost:8080/"
        },
        "outputId": "c05e3f32-4cdb-4c00-e7c0-7c61b845f55c"
      },
      "source": [
        "# Challenge 10\n",
        "# What was the average age of person in Busia County? How many people of this age were in Busia County?\n",
        "# \n",
        "df.loc[df['County'] == 'Busia']['Age_years'].mean()"
      ],
      "execution_count": null,
      "outputs": [
        {
          "output_type": "execute_result",
          "data": {
            "text/plain": [
              "39.51219512195122"
            ]
          },
          "metadata": {
            "tags": []
          },
          "execution_count": 68
        }
      ]
    },
    {
      "cell_type": "code",
      "metadata": {
        "id": "8xkStdjdXS3w",
        "colab": {
          "base_uri": "https://localhost:8080/"
        },
        "outputId": "24802235-f9d5-4b0c-9862-72e5e96c5599"
      },
      "source": [
        "# Challenge 11\n",
        "# What was the Total population of Teso South District?\n",
        "# \n",
        "df.loc[df['District'] == 'TESO SOUTH']['Total'].sum()"
      ],
      "execution_count": null,
      "outputs": [
        {
          "output_type": "execute_result",
          "data": {
            "text/plain": [
              "137924"
            ]
          },
          "metadata": {
            "tags": []
          },
          "execution_count": 71
        }
      ]
    },
    {
      "cell_type": "code",
      "metadata": {
        "id": "rgVsXH_5XVCh",
        "colab": {
          "base_uri": "https://localhost:8080/"
        },
        "outputId": "42d5f9e9-f135-425a-a7b6-be8b4dac78e4"
      },
      "source": [
        "# Challenge 12\n",
        "# What was the urban population of Teso South District?\n",
        "# \n",
        "df.loc[(df['Urban/Rural'] == 'Urban') & (df['District'] == 'TESO SOUTH')]['Total'].sum()"
      ],
      "execution_count": 90,
      "outputs": [
        {
          "output_type": "execute_result",
          "data": {
            "text/plain": [
              "26162"
            ]
          },
          "metadata": {
            "tags": []
          },
          "execution_count": 90
        }
      ]
    },
    {
      "cell_type": "code",
      "metadata": {
        "id": "XvvFWhuDXXeP",
        "colab": {
          "base_uri": "https://localhost:8080/"
        },
        "outputId": "d604bf2e-99b6-493a-b93c-3b07a9eba685"
      },
      "source": [
        "# Challenge 13\n",
        "# What was the rural population of Teso South District?\n",
        "# \n",
        "df.loc[(df['Urban/Rural'] == 'Rural') & (df['District'] == 'TESO SOUTH')]['Total'].sum()"
      ],
      "execution_count": 91,
      "outputs": [
        {
          "output_type": "execute_result",
          "data": {
            "text/plain": [
              "111762"
            ]
          },
          "metadata": {
            "tags": []
          },
          "execution_count": 91
        }
      ]
    },
    {
      "cell_type": "code",
      "metadata": {
        "id": "q1iq02FuXc2R",
        "colab": {
          "base_uri": "https://localhost:8080/"
        },
        "outputId": "7699b9e5-16a8-4831-aa0e-dded9a75d821"
      },
      "source": [
        "# Challenge 14\n",
        "# What was the population of people aged 60 and above in Kenya?\n",
        "#\n",
        "df.loc[df['Age_years'] >= 60]['Total'].sum()"
      ],
      "execution_count": 92,
      "outputs": [
        {
          "output_type": "execute_result",
          "data": {
            "text/plain": [
              "1926051"
            ]
          },
          "metadata": {
            "tags": []
          },
          "execution_count": 92
        }
      ]
    },
    {
      "cell_type": "code",
      "metadata": {
        "id": "drAWpxBZXhcF",
        "colab": {
          "base_uri": "https://localhost:8080/"
        },
        "outputId": "c45ef5a2-8f32-4072-8588-b6b1ec61a71c"
      },
      "source": [
        "# Challenge 15 \n",
        "# What was the urban population in Kenya?\n",
        "#\n",
        "df.loc[df['Urban/Rural'] == 'Urban']['Total'].sum()"
      ],
      "execution_count": 93,
      "outputs": [
        {
          "output_type": "execute_result",
          "data": {
            "text/plain": [
              "12487375"
            ]
          },
          "metadata": {
            "tags": []
          },
          "execution_count": 93
        }
      ]
    },
    {
      "cell_type": "code",
      "metadata": {
        "id": "PZX3qGDQUYuY"
      },
      "source": [
        ""
      ],
      "execution_count": null,
      "outputs": []
    }
  ]
}